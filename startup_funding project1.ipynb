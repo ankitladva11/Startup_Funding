{
 "cells": [
  {
   "cell_type": "code",
   "execution_count": 1,
   "metadata": {},
   "outputs": [],
   "source": [
    "import numpy as np\n",
    "import pandas as pd\n",
    "import matplotlib.pyplot as plt\n",
    "import csv\n",
    "import operator"
   ]
  },
  {
   "cell_type": "code",
   "execution_count": 2,
   "metadata": {},
   "outputs": [],
   "source": [
    "df=pd.read_csv('startup_funding.csv')\n",
    "test1=df.copy()"
   ]
  },
  {
   "cell_type": "markdown",
   "metadata": {},
   "source": [
    "**PROBLEM 1**"
   ]
  },
  {
   "cell_type": "markdown",
   "metadata": {},
   "source": [
    "Your Friend has developed the Product and he wants to establish the product startup and he is searching for a perfect location where getting the investment has a high chance. But due to its financial restriction, he can choose only between three locations -  Bangalore, Mumbai, and NCR. As a friend, you want to help your friend deciding the location. NCR include Gurgaon, Noida and New Delhi. Find the location where the most number of funding is done. That means, find the location where startups has received funding maximum number of times. Plot the bar graph between location and number of funding. Take city name \"Delhi\" as \"New Delhi\". Check the case-sensitiveness of cities also. That means, at some place instead of \"Bangalore\", \"bangalore\" is given. Take city name as \"Bangalore\". For few startups multiple locations are given, one Indian and one Foreign. Consider the startup if any one of the city lies in given locations."
   ]
  },
  {
   "cell_type": "code",
   "execution_count": 3,
   "metadata": {},
   "outputs": [],
   "source": [
    "test1.dropna(inplace = True, subset = ['CityLocation'])\n",
    "test1.reset_index(drop = True, inplace = True)"
   ]
  },
  {
   "cell_type": "code",
   "execution_count": 4,
   "metadata": {},
   "outputs": [],
   "source": [
    "def ind_city(city):\n",
    "    return city.split('/')[0].strip()"
   ]
  },
  {
   "cell_type": "code",
   "execution_count": 5,
   "metadata": {},
   "outputs": [],
   "source": [
    "#replacing the wrong written city\n",
    "test1['CityLocation'].replace(\"bangalore\", \"Bangalore\", inplace = True)\n",
    "test1['CityLocation'].replace(\"Delhi\", \"New Delhi\", inplace = True)\n",
    "test1['CityLocation'].replace(\"SFO / Bangalor\", \"Bangalore\", inplace = True)\n",
    "test1['CityLocation'].replace(\"Seattle / Bangalore\", \"Bangalore\", inplace = True)"
   ]
  },
  {
   "cell_type": "code",
   "execution_count": 6,
   "metadata": {},
   "outputs": [],
   "source": [
    "test1['CityLocation'] = test1['CityLocation'].apply(ind_city)\n"
   ]
  },
  {
   "cell_type": "code",
   "execution_count": 7,
   "metadata": {},
   "outputs": [],
   "source": [
    "test1=test1[(test1['CityLocation']==\"Mumbai\")|(test1['CityLocation']==\"Bangalore\")|(test1['CityLocation']==\"Gurgaon\")|(test1['CityLocation']==\"New Delhi\")|(test1['CityLocation']==\"Noida\")]\n"
   ]
  },
  {
   "cell_type": "code",
   "execution_count": 8,
   "metadata": {},
   "outputs": [
    {
     "data": {
      "text/plain": [
       "Index(['Bangalore', 'Mumbai', 'New Delhi', 'Gurgaon', 'Noida'], dtype='object')"
      ]
     },
     "execution_count": 8,
     "metadata": {},
     "output_type": "execute_result"
    }
   ],
   "source": [
    "#extracting the cities and their counts\n",
    "temp = test1['CityLocation'].value_counts()\n",
    "temp\n",
    "city = temp.index\n",
    "city\n"
   ]
  },
  {
   "cell_type": "code",
   "execution_count": 9,
   "metadata": {},
   "outputs": [
    {
     "data": {
      "text/plain": [
       "array([636, 449, 389, 241,  79], dtype=int64)"
      ]
     },
     "execution_count": 9,
     "metadata": {},
     "output_type": "execute_result"
    }
   ],
   "source": [
    "No_Of_Funding = temp.values\n",
    "No_Of_Funding "
   ]
  },
  {
   "cell_type": "code",
   "execution_count": 10,
   "metadata": {},
   "outputs": [
    {
     "name": "stdout",
     "output_type": "stream",
     "text": [
      "City where most number of funding is done among Bangalore, Mumbai and NCR is ' Bangalore '.\n"
     ]
    }
   ],
   "source": [
    "print(\"City where most number of funding is done among Bangalore, Mumbai and NCR is '\",city[0],\"'.\")\n"
   ]
  },
  {
   "cell_type": "code",
   "execution_count": 11,
   "metadata": {
    "scrolled": true
   },
   "outputs": [
    {
     "data": {
      "image/png": "[encoded data removed]",
      "text/plain": [
       "<Figure size 432x288 with 1 Axes>"
      ]
     },
     "metadata": {
      "needs_background": "light"
     },
     "output_type": "display_data"
    },
    {
     "data": {
      "text/html": [
       "<div>\n",
       "<style scoped>\n",
       "    .dataframe tbody tr th:only-of-type {\n",
       "        vertical-align: middle;\n",
       "    }\n",
       "\n",
       "    .dataframe tbody tr th {\n",
       "        vertical-align: top;\n",
       "    }\n",
       "\n",
       "    .dataframe thead th {\n",
       "        text-align: right;\n",
       "    }\n",
       "</style>\n",
       "<table border=\"1\" class=\"dataframe\">\n",
       "  <thead>\n",
       "    <tr style=\"text-align: right;\">\n",
       "      <th></th>\n",
       "      <th>Name Of City</th>\n",
       "      <th>Number Of Fundings</th>\n",
       "    </tr>\n",
       "  </thead>\n",
       "  <tbody>\n",
       "    <tr>\n",
       "      <th>0</th>\n",
       "      <td>Bangalore</td>\n",
       "      <td>636</td>\n",
       "    </tr>\n",
       "    <tr>\n",
       "      <th>1</th>\n",
       "      <td>Mumbai</td>\n",
       "      <td>449</td>\n",
       "    </tr>\n",
       "    <tr>\n",
       "      <th>2</th>\n",
       "      <td>New Delhi</td>\n",
       "      <td>389</td>\n",
       "    </tr>\n",
       "    <tr>\n",
       "      <th>3</th>\n",
       "      <td>Gurgaon</td>\n",
       "      <td>241</td>\n",
       "    </tr>\n",
       "    <tr>\n",
       "      <th>4</th>\n",
       "      <td>Noida</td>\n",
       "      <td>79</td>\n",
       "    </tr>\n",
       "  </tbody>\n",
       "</table>\n",
       "</div>"
      ],
      "text/plain": [
       "  Name Of City  Number Of Fundings\n",
       "0    Bangalore                 636\n",
       "1       Mumbai                 449\n",
       "2    New Delhi                 389\n",
       "3      Gurgaon                 241\n",
       "4        Noida                  79"
      ]
     },
     "execution_count": 11,
     "metadata": {},
     "output_type": "execute_result"
    }
   ],
   "source": [
    "plt.bar(city,No_Of_Funding,color='green',width=0.8)\n",
    "plt.xlabel(\"City\")\n",
    "plt.xticks(rotation = 40)\n",
    "plt.ylabel(\"Number Of Fundings\")\n",
    "plt.title(\"City vs Number Of Fundings\")\n",
    "plt.show()\n",
    "# accepts iterable items and merges them into a single tuple\n",
    "li = list(zip(city, No_Of_Funding))\n",
    "ff=pd.DataFrame(li,columns=[\"Name Of City\", \"Number Of Fundings\"])\n",
    "ff\n",
    "# x=df.columns[\"Name Of City\"]\n",
    "# y=df.columns[\"Number Of Fundings\"]"
   ]
  },
  {
   "cell_type": "code",
   "execution_count": 12,
   "metadata": {},
   "outputs": [
    {
     "name": "stdout",
     "output_type": "stream",
     "text": [
      "              Number Of Fundings\n",
      "Name Of City                    \n",
      "Bangalore                    636\n",
      "Mumbai                       449\n",
      "New Delhi                    389\n",
      "Gurgaon                      241\n",
      "Noida                         79\n"
     ]
    },
    {
     "data": {
      "image/png": "[encoded data removed]",
      "text/plain": [
       "<Figure size 504x432 with 1 Axes>"
      ]
     },
     "metadata": {},
     "output_type": "display_data"
    }
   ],
   "source": [
    "\n",
    "ff_reset=ff.set_index('Name Of City')\n",
    "print(ff_reset)\n",
    "labels=['Bangalore', 'Mumbai', 'New Delhi', 'Gurgaon', 'Noida']\n",
    " \n",
    "plot = ff_reset.plot.pie(y='Number Of Fundings',labels=labels,figsize=(7,6),autopct='%1.2f%%')\n"
   ]
  },
  {
   "cell_type": "markdown",
   "metadata": {},
   "source": [
    "now we need to find top 5 investors "
   ]
  },
  {
   "cell_type": "markdown",
   "metadata": {},
   "source": [
    "**PROBLEM 2**"
   ]
  },
  {
   "cell_type": "markdown",
   "metadata": {},
   "source": [
    "Even after trying for so many times, your friend’s startup could not find the investment. So you decided to take this matter in your hand and try to find the list of investors who probably can invest in your friend’s startup. Your list will increase the chance of your friend startup getting some initial investment by contacting these investors. Find the top 5 investors who have invested maximum number of times (consider repeat investments in one company also). In a startup, multiple investors might have invested. So consider each investor for that startup. Ignore undisclosed investors."
   ]
  },
  {
   "cell_type": "code",
   "execution_count": 13,
   "metadata": {},
   "outputs": [
    {
     "data": {
      "text/html": [
       "<div>\n",
       "<style scoped>\n",
       "    .dataframe tbody tr th:only-of-type {\n",
       "        vertical-align: middle;\n",
       "    }\n",
       "\n",
       "    .dataframe tbody tr th {\n",
       "        vertical-align: top;\n",
       "    }\n",
       "\n",
       "    .dataframe thead th {\n",
       "        text-align: right;\n",
       "    }\n",
       "</style>\n",
       "<table border=\"1\" class=\"dataframe\">\n",
       "  <thead>\n",
       "    <tr style=\"text-align: right;\">\n",
       "      <th></th>\n",
       "      <th>SNo</th>\n",
       "      <th>Date</th>\n",
       "      <th>StartupName</th>\n",
       "      <th>IndustryVertical</th>\n",
       "      <th>SubVertical</th>\n",
       "      <th>CityLocation</th>\n",
       "      <th>InvestorsName</th>\n",
       "      <th>InvestmentType</th>\n",
       "      <th>AmountInUSD</th>\n",
       "      <th>Remarks</th>\n",
       "    </tr>\n",
       "  </thead>\n",
       "  <tbody>\n",
       "    <tr>\n",
       "      <th>0</th>\n",
       "      <td>0</td>\n",
       "      <td>01/08/2017</td>\n",
       "      <td>TouchKin</td>\n",
       "      <td>Technology</td>\n",
       "      <td>Predictive Care Platform</td>\n",
       "      <td>Bangalore</td>\n",
       "      <td>Kae Capital</td>\n",
       "      <td>Private Equity</td>\n",
       "      <td>1,300,000</td>\n",
       "      <td>NaN</td>\n",
       "    </tr>\n",
       "    <tr>\n",
       "      <th>1</th>\n",
       "      <td>1</td>\n",
       "      <td>02/08/2017</td>\n",
       "      <td>Ethinos</td>\n",
       "      <td>Technology</td>\n",
       "      <td>Digital Marketing Agency</td>\n",
       "      <td>Mumbai</td>\n",
       "      <td>Triton Investment Advisors</td>\n",
       "      <td>Private Equity</td>\n",
       "      <td>NaN</td>\n",
       "      <td>NaN</td>\n",
       "    </tr>\n",
       "    <tr>\n",
       "      <th>2</th>\n",
       "      <td>2</td>\n",
       "      <td>02/08/2017</td>\n",
       "      <td>Leverage Edu</td>\n",
       "      <td>Consumer Internet</td>\n",
       "      <td>Online platform for Higher Education Services</td>\n",
       "      <td>New Delhi</td>\n",
       "      <td>Kashyap Deorah, Anand Sankeshwar, Deepak Jain,...</td>\n",
       "      <td>Seed Funding</td>\n",
       "      <td>NaN</td>\n",
       "      <td>NaN</td>\n",
       "    </tr>\n",
       "    <tr>\n",
       "      <th>3</th>\n",
       "      <td>3</td>\n",
       "      <td>02/08/2017</td>\n",
       "      <td>Zepo</td>\n",
       "      <td>Consumer Internet</td>\n",
       "      <td>DIY Ecommerce platform</td>\n",
       "      <td>Mumbai</td>\n",
       "      <td>Kunal Shah, LetsVenture, Anupam Mittal, Hetal ...</td>\n",
       "      <td>Seed Funding</td>\n",
       "      <td>500,000</td>\n",
       "      <td>NaN</td>\n",
       "    </tr>\n",
       "    <tr>\n",
       "      <th>4</th>\n",
       "      <td>4</td>\n",
       "      <td>02/08/2017</td>\n",
       "      <td>Click2Clinic</td>\n",
       "      <td>Consumer Internet</td>\n",
       "      <td>healthcare service aggregator</td>\n",
       "      <td>Hyderabad</td>\n",
       "      <td>Narottam Thudi, Shireesh Palle</td>\n",
       "      <td>Seed Funding</td>\n",
       "      <td>850,000</td>\n",
       "      <td>NaN</td>\n",
       "    </tr>\n",
       "    <tr>\n",
       "      <th>...</th>\n",
       "      <td>...</td>\n",
       "      <td>...</td>\n",
       "      <td>...</td>\n",
       "      <td>...</td>\n",
       "      <td>...</td>\n",
       "      <td>...</td>\n",
       "      <td>...</td>\n",
       "      <td>...</td>\n",
       "      <td>...</td>\n",
       "      <td>...</td>\n",
       "    </tr>\n",
       "    <tr>\n",
       "      <th>2359</th>\n",
       "      <td>2367</td>\n",
       "      <td>29/01/2015</td>\n",
       "      <td>Printvenue</td>\n",
       "      <td>NaN</td>\n",
       "      <td>NaN</td>\n",
       "      <td>NaN</td>\n",
       "      <td>Asia Pacific Internet Group</td>\n",
       "      <td>Private Equity</td>\n",
       "      <td>4,500,000</td>\n",
       "      <td>NaN</td>\n",
       "    </tr>\n",
       "    <tr>\n",
       "      <th>2360</th>\n",
       "      <td>2368</td>\n",
       "      <td>29/01/2015</td>\n",
       "      <td>Graphene</td>\n",
       "      <td>NaN</td>\n",
       "      <td>NaN</td>\n",
       "      <td>NaN</td>\n",
       "      <td>KARSEMVEN Fund</td>\n",
       "      <td>Private Equity</td>\n",
       "      <td>825,000</td>\n",
       "      <td>Govt backed VC Fund</td>\n",
       "    </tr>\n",
       "    <tr>\n",
       "      <th>2361</th>\n",
       "      <td>2369</td>\n",
       "      <td>30/01/2015</td>\n",
       "      <td>Mad Street Den</td>\n",
       "      <td>NaN</td>\n",
       "      <td>NaN</td>\n",
       "      <td>NaN</td>\n",
       "      <td>Exfinity Fund, GrowX Ventures.</td>\n",
       "      <td>Private Equity</td>\n",
       "      <td>1,500,000</td>\n",
       "      <td>NaN</td>\n",
       "    </tr>\n",
       "    <tr>\n",
       "      <th>2362</th>\n",
       "      <td>2370</td>\n",
       "      <td>30/01/2015</td>\n",
       "      <td>Simplotel</td>\n",
       "      <td>NaN</td>\n",
       "      <td>NaN</td>\n",
       "      <td>NaN</td>\n",
       "      <td>MakeMyTrip</td>\n",
       "      <td>Private Equity</td>\n",
       "      <td>NaN</td>\n",
       "      <td>Strategic Funding, Minority stake</td>\n",
       "    </tr>\n",
       "    <tr>\n",
       "      <th>2363</th>\n",
       "      <td>2371</td>\n",
       "      <td>31/01/2015</td>\n",
       "      <td>couponmachine.in</td>\n",
       "      <td>NaN</td>\n",
       "      <td>NaN</td>\n",
       "      <td>NaN</td>\n",
       "      <td>UK based Group of Angel Investors</td>\n",
       "      <td>Seed Funding</td>\n",
       "      <td>140,000</td>\n",
       "      <td>NaN</td>\n",
       "    </tr>\n",
       "  </tbody>\n",
       "</table>\n",
       "<p>2364 rows × 10 columns</p>\n",
       "</div>"
      ],
      "text/plain": [
       "       SNo        Date       StartupName   IndustryVertical  \\\n",
       "0        0  01/08/2017          TouchKin         Technology   \n",
       "1        1  02/08/2017           Ethinos         Technology   \n",
       "2        2  02/08/2017      Leverage Edu  Consumer Internet   \n",
       "3        3  02/08/2017              Zepo  Consumer Internet   \n",
       "4        4  02/08/2017      Click2Clinic  Consumer Internet   \n",
       "...    ...         ...               ...                ...   \n",
       "2359  2367  29/01/2015        Printvenue                NaN   \n",
       "2360  2368  29/01/2015          Graphene                NaN   \n",
       "2361  2369  30/01/2015    Mad Street Den                NaN   \n",
       "2362  2370  30/01/2015         Simplotel                NaN   \n",
       "2363  2371  31/01/2015  couponmachine.in                NaN   \n",
       "\n",
       "                                        SubVertical CityLocation  \\\n",
       "0                          Predictive Care Platform    Bangalore   \n",
       "1                          Digital Marketing Agency       Mumbai   \n",
       "2     Online platform for Higher Education Services    New Delhi   \n",
       "3                            DIY Ecommerce platform       Mumbai   \n",
       "4                     healthcare service aggregator    Hyderabad   \n",
       "...                                             ...          ...   \n",
       "2359                                            NaN          NaN   \n",
       "2360                                            NaN          NaN   \n",
       "2361                                            NaN          NaN   \n",
       "2362                                            NaN          NaN   \n",
       "2363                                            NaN          NaN   \n",
       "\n",
       "                                          InvestorsName  InvestmentType  \\\n",
       "0                                           Kae Capital  Private Equity   \n",
       "1                            Triton Investment Advisors  Private Equity   \n",
       "2     Kashyap Deorah, Anand Sankeshwar, Deepak Jain,...    Seed Funding   \n",
       "3     Kunal Shah, LetsVenture, Anupam Mittal, Hetal ...    Seed Funding   \n",
       "4                        Narottam Thudi, Shireesh Palle    Seed Funding   \n",
       "...                                                 ...             ...   \n",
       "2359                        Asia Pacific Internet Group  Private Equity   \n",
       "2360                                     KARSEMVEN Fund  Private Equity   \n",
       "2361                     Exfinity Fund, GrowX Ventures.  Private Equity   \n",
       "2362                                         MakeMyTrip  Private Equity   \n",
       "2363                  UK based Group of Angel Investors    Seed Funding   \n",
       "\n",
       "     AmountInUSD                            Remarks  \n",
       "0      1,300,000                                NaN  \n",
       "1            NaN                                NaN  \n",
       "2            NaN                                NaN  \n",
       "3        500,000                                NaN  \n",
       "4        850,000                                NaN  \n",
       "...          ...                                ...  \n",
       "2359   4,500,000                                NaN  \n",
       "2360     825,000                Govt backed VC Fund  \n",
       "2361   1,500,000                                NaN  \n",
       "2362         NaN  Strategic Funding, Minority stake  \n",
       "2363     140,000                                NaN  \n",
       "\n",
       "[2364 rows x 10 columns]"
      ]
     },
     "execution_count": 13,
     "metadata": {},
     "output_type": "execute_result"
    }
   ],
   "source": [
    "df=pd.read_csv('startup_funding.csv')\n",
    "\n",
    "test2=df.copy()\n",
    "\n",
    "#test2.dropna(inplace = True, subset = ['AmountInUSD'])\n",
    "test2.dropna(inplace = True, subset = ['InvestorsName'])\n",
    "#test2.dropna(inplace = True, subset = ['StartupName'])\n",
    "#correcting the spelling in investors name ignoring undisclosed investors\n",
    "test2['InvestorsName'].replace(\"Undisclosed investors\", \"Undisclosed Investors\", inplace = True)\n",
    "test2['InvestorsName'].replace(\"Undisclosed Investors\",\"\",inplace = True)\n",
    "\n",
    "test2.reset_index(drop = True, inplace = True)\n",
    "test2"
   ]
  },
  {
   "cell_type": "code",
   "execution_count": 14,
   "metadata": {},
   "outputs": [],
   "source": [
    "#function to fill dictionary on the basis of investors name\n",
    "def build_dict(array):\n",
    "    d = {}\n",
    "    #d holds investors name as key and the number of investments as value\n",
    "    for i in array:\n",
    "        if ',' not in i and i != \"\":\n",
    "            d[i] = d.get(i, 0) + 1\n",
    "        else:\n",
    "            #splitting the Investors name list\n",
    "            string = i.strip().split(',')\n",
    "            for j in string:\n",
    "                if j != \"\":\n",
    "                    d[j.strip()] = d.get(j.strip(), 0) + 1\n",
    "                \n",
    "    return d"
   ]
  },
  {
   "cell_type": "code",
   "execution_count": 15,
   "metadata": {},
   "outputs": [],
   "source": [
    "dictionary = build_dict(test2['InvestorsName'])\n",
    "\n",
    "#build pandas dataframe of investors name and its number of investments\n",
    "invest = pd.DataFrame(list(dictionary.values()), list(dictionary.keys()))"
   ]
  },
  {
   "cell_type": "code",
   "execution_count": 16,
   "metadata": {},
   "outputs": [],
   "source": [
    "#sort the values in descending order \n",
    "invest = invest.sort_values(by = [0], ascending = False)"
   ]
  },
  {
   "cell_type": "code",
   "execution_count": 17,
   "metadata": {},
   "outputs": [],
   "source": [
    "x = []\n",
    "y = []\n",
    "\n",
    "#we have to just find top 5 investors who invest maximum number of times\n",
    "for i in range(5):\n",
    "    x.append(invest.index[i])\n",
    "    y.append(invest.values[i])"
   ]
  },
  {
   "cell_type": "code",
   "execution_count": 18,
   "metadata": {},
   "outputs": [
    {
     "name": "stdout",
     "output_type": "stream",
     "text": [
      "List Of Top 5 Investors who Invested most number of times :\n",
      "1. Sequoia Capital\n",
      "2. Accel Partners\n",
      "3. Kalaari Capital\n",
      "4. SAIF Partners\n",
      "5. Indian Angel Network\n"
     ]
    }
   ],
   "source": [
    "#printing the top investors\n",
    "print(\"List Of Top 5 Investors who Invested most number of times :\")\n",
    "i = 0\n",
    "for ele in x:\n",
    "    print(i+1,end = \"\")\n",
    "    print(\".\", end = \" \")\n",
    "    print(ele)\n",
    "    i += 1\n"
   ]
  },
  {
   "cell_type": "code",
   "execution_count": 19,
   "metadata": {},
   "outputs": [
    {
     "data": {
      "image/png": "[encoded data removed]",
      "text/plain": [
       "<Figure size 432x288 with 1 Axes>"
      ]
     },
     "metadata": {
      "needs_background": "light"
     },
     "output_type": "display_data"
    }
   ],
   "source": [
    "plt.plot(x,y,color='green',linestyle='dashed', linewidth = 3, marker='o', markerfacecolor='pink', markersize=12)\n",
    "plt.xlabel(\"Investors Name\")\n",
    "plt.xticks(rotation=40)\n",
    "plt.ylabel(\"Number Of Investments\")\n",
    "plt.title(\"Investors vs Number Of Investments\")\n",
    "plt.show()"
   ]
  },
  {
   "cell_type": "code",
   "execution_count": 20,
   "metadata": {},
   "outputs": [
    {
     "data": {
      "text/html": [
       "<div>\n",
       "<style scoped>\n",
       "    .dataframe tbody tr th:only-of-type {\n",
       "        vertical-align: middle;\n",
       "    }\n",
       "\n",
       "    .dataframe tbody tr th {\n",
       "        vertical-align: top;\n",
       "    }\n",
       "\n",
       "    .dataframe thead th {\n",
       "        text-align: right;\n",
       "    }\n",
       "</style>\n",
       "<table border=\"1\" class=\"dataframe\">\n",
       "  <thead>\n",
       "    <tr style=\"text-align: right;\">\n",
       "      <th></th>\n",
       "      <th>Name Of Investors</th>\n",
       "      <th>Total Number Of Investments</th>\n",
       "    </tr>\n",
       "  </thead>\n",
       "  <tbody>\n",
       "    <tr>\n",
       "      <th>0</th>\n",
       "      <td>Sequoia Capital</td>\n",
       "      <td>[64]</td>\n",
       "    </tr>\n",
       "    <tr>\n",
       "      <th>1</th>\n",
       "      <td>Accel Partners</td>\n",
       "      <td>[53]</td>\n",
       "    </tr>\n",
       "    <tr>\n",
       "      <th>2</th>\n",
       "      <td>Kalaari Capital</td>\n",
       "      <td>[44]</td>\n",
       "    </tr>\n",
       "    <tr>\n",
       "      <th>3</th>\n",
       "      <td>SAIF Partners</td>\n",
       "      <td>[41]</td>\n",
       "    </tr>\n",
       "    <tr>\n",
       "      <th>4</th>\n",
       "      <td>Indian Angel Network</td>\n",
       "      <td>[40]</td>\n",
       "    </tr>\n",
       "  </tbody>\n",
       "</table>\n",
       "</div>"
      ],
      "text/plain": [
       "      Name Of Investors Total Number Of Investments\n",
       "0       Sequoia Capital                        [64]\n",
       "1        Accel Partners                        [53]\n",
       "2       Kalaari Capital                        [44]\n",
       "3         SAIF Partners                        [41]\n",
       "4  Indian Angel Network                        [40]"
      ]
     },
     "execution_count": 20,
     "metadata": {},
     "output_type": "execute_result"
    }
   ],
   "source": [
    " \n",
    "#pandas frame for Investors name and corresponding Number of Investments made by them\n",
    "li = list(zip(x,y))\n",
    "investor_data = pd.DataFrame(li, columns = [\"Name Of Investors\", \"Total Number Of Investments\"])\n",
    "investor_data"
   ]
  },
  {
   "cell_type": "markdown",
   "metadata": {},
   "source": [
    "**PROBLEM 3**"
   ]
  },
  {
   "cell_type": "markdown",
   "metadata": {},
   "source": [
    "After re-analysing the dataset you found out that some investors have invested in the same startup at different number of funding rounds. So before finalising the previous list, you want to improvise it by finding the top 5 investors who have invested in different number of startups. This list will be more helpful than your previous list in finding the investment for your friend startup. Find the top 5 investors who have invested maximum number of times in different companies. That means, if one investor has invested multiple times in one startup, count one for that company. There are many errors in startup names. Ignore correcting all, just handle the important ones - Ola, Flipkart, Oyo and Paytm."
   ]
  },
  {
   "cell_type": "code",
   "execution_count": 21,
   "metadata": {},
   "outputs": [],
   "source": [
    " test3=df.copy()"
   ]
  },
  {
   "cell_type": "code",
   "execution_count": 22,
   "metadata": {},
   "outputs": [],
   "source": [
    "#correcting the spelling in investors name ignoring undisclosed investors\n",
    "test3['InvestorsName'].replace(\"Undisclosed investors\", \"Undisclosed Investors\", inplace = True)\n",
    "test3['InvestorsName'].replace(\"Undisclosed Investors\",\"\",inplace = True)"
   ]
  },
  {
   "cell_type": "code",
   "execution_count": 23,
   "metadata": {},
   "outputs": [],
   "source": [
    "#correcting major startup names\n",
    "test3['StartupName'].replace(\"Ola Cabs\", \"Ola\", inplace = True)\n",
    "test3['StartupName'].replace(\"OyoRooms\", \"Oyo\", inplace = True)\n",
    "test3['StartupName'].replace(\"Oyorooms\", \"Oyo\", inplace = True)\n",
    "test3['StartupName'].replace(\"OYO Rooms\", \"Oyo\", inplace = True)\n",
    "test3['StartupName'].replace(\"Olacabs\", \"Ola\", inplace = True)\n",
    "test3['StartupName'].replace(\"Flipkart.com\", \"Flipkart\", inplace = True)\n",
    "test3['StartupName'].replace(\"Oyo Rooms\", \"Oyo\", inplace = True)\n",
    "test3['StartupName'].replace(\"Paytm Marketplace\", \"Paytm\", inplace = True)"
   ]
  },
  {
   "cell_type": "code",
   "execution_count": 24,
   "metadata": {},
   "outputs": [],
   "source": [
    "#filtering the na\n",
    "test3.dropna(inplace = True, subset = [\"InvestorsName\", \"StartupName\"])\n",
    "test3.reset_index(drop = True, inplace = True)"
   ]
  },
  {
   "cell_type": "code",
   "execution_count": 25,
   "metadata": {},
   "outputs": [],
   "source": [
    " #function to create dictionary of investor name making investment to different startups\n",
    "def Create(startup_name, Investor_name):\n",
    "    cnt = {}\n",
    "    #cnt holds investors name as key and the number of investments as value\n",
    "    name_startup = {}\n",
    "    #name_startup holds the investors name as key and list of different companies in which it invests as value\n",
    "    n = len(Investor_name)\n",
    "    for idx in range(n):\n",
    "        i = Investor_name[idx].strip()\n",
    "        name = startup_name[idx].strip()\n",
    "        if ',' not in i and i != \"\":\n",
    "            if name_startup.get(i) is None: #no startup is still funded by this investor\n",
    "                cnt[i] = 1\n",
    "                li = []\n",
    "                li.append(name)\n",
    "                name_startup[i] = li   \n",
    "            else:\n",
    "                li = name_startup[i]\n",
    "                if name not in li:             #checking the given startup has been invested before or not\n",
    "                    cnt[i] = cnt.get(i, 0) + 1\n",
    "                    li.append(name)\n",
    "                    name_startup[i]\n",
    "            \n",
    "        else:\n",
    "            #splitting the Investors name list\n",
    "            string = i.strip().split(',')\n",
    "            for j in string:\n",
    "                k = j.strip()\n",
    "                if k != \"\":\n",
    "                    if name_startup.get(k) is None:  #no startup is still funded by this investor\n",
    "                        cnt[k] = 1\n",
    "                        li = []\n",
    "                        li.append(name)\n",
    "                        name_startup[k] = li\n",
    "                    else:\n",
    "                        li = name_startup[k]\n",
    "                        if name not in li:         #checking the given startup has been invested before or not\n",
    "                            cnt[k] = cnt.get(k, 0) + 1\n",
    "                            li.append(name)\n",
    "                            name_startup[k] = li \n",
    "                \n",
    "    return cnt"
   ]
  },
  {
   "cell_type": "code",
   "execution_count": 26,
   "metadata": {},
   "outputs": [],
   "source": [
    "#making dictionary\n",
    "dictionary = Create(test3['StartupName'], test3['InvestorsName'])"
   ]
  },
  {
   "cell_type": "code",
   "execution_count": 27,
   "metadata": {},
   "outputs": [],
   "source": [
    "#build pandas dataframe\n",
    "diff_invest = pd.DataFrame(list(dictionary.values()), list(dictionary.keys()))"
   ]
  },
  {
   "cell_type": "code",
   "execution_count": 28,
   "metadata": {},
   "outputs": [],
   "source": [
    "diff_invest = diff_invest.sort_values(by = [0], ascending = False)\n"
   ]
  },
  {
   "cell_type": "code",
   "execution_count": 29,
   "metadata": {},
   "outputs": [],
   "source": [
    "x = []\n",
    "y = []\n",
    "\n",
    "#we have to just find top 5 investors who invest maximum number of times in different startups\n",
    "for i in range(5):\n",
    "    x.append(diff_invest.index[i])\n",
    "    y.append(diff_invest.values[i][0])"
   ]
  },
  {
   "cell_type": "code",
   "execution_count": 30,
   "metadata": {},
   "outputs": [
    {
     "name": "stdout",
     "output_type": "stream",
     "text": [
      "List Of Top 5 Investors who Invested most number of times :\n",
      "1. Sequoia Capital\n",
      "2. Accel Partners\n",
      "3. Kalaari Capital\n",
      "4. Indian Angel Network\n",
      "5. Blume Ventures\n"
     ]
    }
   ],
   "source": [
    "#printing the top investors who invested who invested most number of times in different startups\n",
    "print(\"List Of Top 5 Investors who Invested most number of times :\")\n",
    "i = 0\n",
    "for ele in x:\n",
    "    print(i+1,end = \"\")\n",
    "    print(\".\", end = \" \")\n",
    "    print(ele)\n",
    "    i += 1"
   ]
  },
  {
   "cell_type": "code",
   "execution_count": 31,
   "metadata": {},
   "outputs": [
    {
     "data": {
      "image/png": "[encoded data removed]",
      "text/plain": [
       "<Figure size 432x288 with 1 Axes>"
      ]
     },
     "metadata": {},
     "output_type": "display_data"
    }
   ],
   "source": [
    "plt.pie(y,labels=x,shadow=True,explode=(0.1,0.1,0.1,0.1,0.1),autopct = \"%.1f%%\")\n",
    "plt.grid()\n",
    "plt.xticks(rotation=40)\n",
    "plt.title(\"Top 5 Investors and corresponding Number Of Investments In Different Startups\")\n",
    "plt.show()\n",
    "\n"
   ]
  },
  {
   "cell_type": "code",
   "execution_count": 32,
   "metadata": {},
   "outputs": [
    {
     "data": {
      "text/html": [
       "<div>\n",
       "<style scoped>\n",
       "    .dataframe tbody tr th:only-of-type {\n",
       "        vertical-align: middle;\n",
       "    }\n",
       "\n",
       "    .dataframe tbody tr th {\n",
       "        vertical-align: top;\n",
       "    }\n",
       "\n",
       "    .dataframe thead th {\n",
       "        text-align: right;\n",
       "    }\n",
       "</style>\n",
       "<table border=\"1\" class=\"dataframe\">\n",
       "  <thead>\n",
       "    <tr style=\"text-align: right;\">\n",
       "      <th></th>\n",
       "      <th>Name Of Investors</th>\n",
       "      <th>Total Number Of Investments</th>\n",
       "    </tr>\n",
       "  </thead>\n",
       "  <tbody>\n",
       "    <tr>\n",
       "      <th>0</th>\n",
       "      <td>Sequoia Capital</td>\n",
       "      <td>48</td>\n",
       "    </tr>\n",
       "    <tr>\n",
       "      <th>1</th>\n",
       "      <td>Accel Partners</td>\n",
       "      <td>47</td>\n",
       "    </tr>\n",
       "    <tr>\n",
       "      <th>2</th>\n",
       "      <td>Kalaari Capital</td>\n",
       "      <td>41</td>\n",
       "    </tr>\n",
       "    <tr>\n",
       "      <th>3</th>\n",
       "      <td>Indian Angel Network</td>\n",
       "      <td>40</td>\n",
       "    </tr>\n",
       "    <tr>\n",
       "      <th>4</th>\n",
       "      <td>Blume Ventures</td>\n",
       "      <td>36</td>\n",
       "    </tr>\n",
       "  </tbody>\n",
       "</table>\n",
       "</div>"
      ],
      "text/plain": [
       "      Name Of Investors  Total Number Of Investments\n",
       "0       Sequoia Capital                           48\n",
       "1        Accel Partners                           47\n",
       "2       Kalaari Capital                           41\n",
       "3  Indian Angel Network                           40\n",
       "4        Blume Ventures                           36"
      ]
     },
     "execution_count": 32,
     "metadata": {},
     "output_type": "execute_result"
    }
   ],
   "source": [
    "li=list(zip(x,y))\n",
    "investor_data=pd.DataFrame(li,columns=[\"Name Of Investors\", \"Total Number Of Investments\"])\n",
    "investor_data"
   ]
  },
  {
   "cell_type": "markdown",
   "metadata": {},
   "source": [
    "**PROBLEM 4**"
   ]
  },
  {
   "cell_type": "markdown",
   "metadata": {},
   "source": [
    "Even after putting so much effort in finding the probable investors, it didn't turn out to be helpful for your friend. So you went to your investor friend to understand the situation better and your investor friend explained to you about the different Investment Types and their features. This new information will be helpful in finding the right investor. Since your friend startup is at an early stage startup, the best-suited investment type would be - Seed Funding and Crowdfunding. Find the top 5 investors who have invested in a different number of startups and their investment type is Crowdfunding or Seed Funding. Correct spelling of investment types are - \"Private Equity\", \"Seed Funding\", \"Debt Funding\", and \"Crowd Funding\". Keep an eye for any spelling mistake. You can find this by printing unique values from this column. There are many errors in startup names. Ignore correcting all, just handle the important ones - Ola, Flipkart, Oyo and Paytm."
   ]
  },
  {
   "cell_type": "code",
   "execution_count": null,
   "metadata": {},
   "outputs": [],
   "source": [
    "test4=df.copy()\n"
   ]
  },
  {
   "cell_type": "code",
   "execution_count": 34,
   "metadata": {},
   "outputs": [],
   "source": [
    "#correcting the spelling in investors name as ignoring the undisclosed investors\n",
    "test4['InvestorsName'].replace(\"Undisclosed investors\", \"Undisclosed Investors\", inplace = True)\n",
    "test4['InvestorsName'].replace(\"Undisclosed Investors\", \"\", inplace = True)"
   ]
  },
  {
   "cell_type": "code",
   "execution_count": 35,
   "metadata": {},
   "outputs": [],
   "source": [
    "#correcting major startup names\n",
    "test4['StartupName'].replace(\"Ola Cabs\", \"Ola\", inplace = True)\n",
    "test4['StartupName'].replace(\"OyoRooms\", \"Oyo\", inplace = True)\n",
    "test4['StartupName'].replace(\"Oyorooms\", \"Oyo\", inplace = True)\n",
    "test4['StartupName'].replace(\"OYO Rooms\", \"Oyo\", inplace = True)\n",
    "test4['StartupName'].replace(\"Olacabs\", \"Ola\", inplace = True)\n",
    "test4['StartupName'].replace(\"Flipkart.com\", \"Flipkart\", inplace = True)\n",
    "test4['StartupName'].replace(\"Oyo Rooms\", \"Oyo\", inplace = True)\n",
    "test4['StartupName'].replace(\"Paytm Marketplace\", \"Paytm\", inplace = True)"
   ]
  },
  {
   "cell_type": "code",
   "execution_count": 36,
   "metadata": {},
   "outputs": [],
   "source": [
    "#correcting spelling of investment type\n",
    "test4['InvestmentType'].replace(\"PrivateEquity\",\"Private Equity\", inplace = True)\n",
    "test4['InvestmentType'].replace(\"SeedFunding\",\"Seed Funding\", inplace = True)\n",
    "test4['InvestmentType'].replace(\"Crowd funding\",\"Crowd Funding\", inplace = True)"
   ]
  },
  {
   "cell_type": "code",
   "execution_count": 37,
   "metadata": {},
   "outputs": [],
   "source": [
    "#filter na \n",
    "test4.dropna(inplace = True, subset = [\"InvestorsName\", \"StartupName\", \"InvestmentType\"])\n",
    "test4.reset_index(inplace = True, drop = True)"
   ]
  },
  {
   "cell_type": "code",
   "execution_count": 38,
   "metadata": {},
   "outputs": [],
   "source": [
    "#function to create dictionary of investor name making investment to different startups and Investment type is either Seed funding or Crowd funding\n",
    "def Create(startup_name, Investor_name, Invest_type, Investment_type):\n",
    "    cnt = {}\n",
    "    #cnt holds investors name as key and the number of investments as value\n",
    "    name_startup = {}\n",
    "    #name_startup holds the investors name as key and list of different companies in which it invests as value\n",
    "    n = len(Investor_name)\n",
    "    for idx in range(n):\n",
    "        type_of_invest = Invest_type[idx].strip()\n",
    "        if type_of_invest not in Investment_type: #if investement type is either seed or crowd then we will look into the startup name or investors name\n",
    "            continue\n",
    "        i = Investor_name[idx].strip()\n",
    "        name = startup_name[idx].strip()\n",
    "        if ',' not in i and i != \"\":\n",
    "            if name_startup.get(i) is None:    #no startup is still funded by this investor till now\n",
    "                cnt[i] = 1\n",
    "                li = []\n",
    "                li.append(name)\n",
    "                name_startup[i] = li   \n",
    "            else:\n",
    "                li = name_startup[i]\n",
    "                if name not in li:             #checking the given startup has been invested before or not\n",
    "                    cnt[i] = cnt.get(i, 0) + 1\n",
    "                    li.append(name)\n",
    "                    name_startup[i]   \n",
    "        else:\n",
    "            string = i.strip().split(',')\n",
    "            for j in string:\n",
    "                k = j.strip()\n",
    "                if k != \"\":\n",
    "                    if name_startup.get(k) is None:    #no startup is still funded by this investor till now\n",
    "                        cnt[k] = 1\n",
    "                        li = []\n",
    "                        li.append(name)\n",
    "                        name_startup[k] = li\n",
    "                    else:\n",
    "                        li = name_startup[k]\n",
    "                        if name not in li:            #checking the given startup has been invested before or not\n",
    "                            cnt[k] = cnt.get(k, 0) + 1\n",
    "                            li.append(name)\n",
    "                            name_startup[k] = li \n",
    "                \n",
    "    return cnt"
   ]
  },
  {
   "cell_type": "code",
   "execution_count": 39,
   "metadata": {},
   "outputs": [],
   "source": [
    "#making dictionary to keep record of every investor\n",
    "dictionary = Create(test4['StartupName'], test4['InvestorsName'], test4['InvestmentType'], [\"Crowd Funding\", \"Seed Funding\"])"
   ]
  },
  {
   "cell_type": "code",
   "execution_count": 40,
   "metadata": {},
   "outputs": [],
   "source": [
    "#build pandas dataframe\n",
    "diff_invest_type = pd.DataFrame(list(dictionary.values()), list(dictionary.keys()))"
   ]
  },
  {
   "cell_type": "code",
   "execution_count": 41,
   "metadata": {},
   "outputs": [],
   "source": [
    "#sort in descending order on the basis of values\n",
    "diff_invest_type = diff_invest_type.sort_values(by = [0], ascending = False)"
   ]
  },
  {
   "cell_type": "code",
   "execution_count": 51,
   "metadata": {},
   "outputs": [],
   "source": [
    "x1=[]\n",
    "y1=[]\n",
    "for i in range(5):\n",
    "    x1.append(diff_invest_type.index[i])\n",
    "    y1.append(diff_invest_type.index[i][0])\n",
    "    "
   ]
  },
  {
   "cell_type": "code",
   "execution_count": 52,
   "metadata": {
    "scrolled": true
   },
   "outputs": [
    {
     "name": "stdout",
     "output_type": "stream",
     "text": [
      "List Of Top 5 Investors who Invested most number of times of type Seed funding or Crowd funding :\n",
      "1. Indian Angel Network\n",
      "2. Rajan Anandan\n",
      "3. LetsVenture\n",
      "4. Anupam Mittal\n",
      "5. Group of Angel Investors\n"
     ]
    }
   ],
   "source": [
    "#printing the top investors who invested who invested most number of times in different startups and Investment type is either Seed funding or Crowd funding\n",
    "print(\"List Of Top 5 Investors who Invested most number of times of type Seed funding or Crowd funding :\")\n",
    "i = 0\n",
    "for ele in x1:\n",
    "    print(i+1,end = \"\")\n",
    "    print(\".\", end = \" \")\n",
    "    print(ele)\n",
    "    i += 1"
   ]
  },
  {
   "cell_type": "code",
   "execution_count": 60,
   "metadata": {},
   "outputs": [
    {
     "data": {
      "image/png": "[encoded data removed]",
      "text/plain": [
       "<Figure size 432x288 with 1 Axes>"
      ]
     },
     "metadata": {
      "needs_background": "light"
     },
     "output_type": "display_data"
    },
    {
     "data": {
      "text/html": [
       "<div>\n",
       "<style scoped>\n",
       "    .dataframe tbody tr th:only-of-type {\n",
       "        vertical-align: middle;\n",
       "    }\n",
       "\n",
       "    .dataframe tbody tr th {\n",
       "        vertical-align: top;\n",
       "    }\n",
       "\n",
       "    .dataframe thead th {\n",
       "        text-align: right;\n",
       "    }\n",
       "</style>\n",
       "<table border=\"1\" class=\"dataframe\">\n",
       "  <thead>\n",
       "    <tr style=\"text-align: right;\">\n",
       "      <th></th>\n",
       "      <th>Name Of Investors</th>\n",
       "      <th>Total Number Of Investments of type Seed funding or Crowd funding</th>\n",
       "    </tr>\n",
       "  </thead>\n",
       "  <tbody>\n",
       "    <tr>\n",
       "      <th>0</th>\n",
       "      <td>Sequoia Capital</td>\n",
       "      <td>48</td>\n",
       "    </tr>\n",
       "    <tr>\n",
       "      <th>1</th>\n",
       "      <td>Accel Partners</td>\n",
       "      <td>47</td>\n",
       "    </tr>\n",
       "    <tr>\n",
       "      <th>2</th>\n",
       "      <td>Kalaari Capital</td>\n",
       "      <td>41</td>\n",
       "    </tr>\n",
       "    <tr>\n",
       "      <th>3</th>\n",
       "      <td>Indian Angel Network</td>\n",
       "      <td>40</td>\n",
       "    </tr>\n",
       "    <tr>\n",
       "      <th>4</th>\n",
       "      <td>Blume Ventures</td>\n",
       "      <td>36</td>\n",
       "    </tr>\n",
       "  </tbody>\n",
       "</table>\n",
       "</div>"
      ],
      "text/plain": [
       "      Name Of Investors  \\\n",
       "0       Sequoia Capital   \n",
       "1        Accel Partners   \n",
       "2       Kalaari Capital   \n",
       "3  Indian Angel Network   \n",
       "4        Blume Ventures   \n",
       "\n",
       "   Total Number Of Investments of type Seed funding or Crowd funding  \n",
       "0                                                 48                  \n",
       "1                                                 47                  \n",
       "2                                                 41                  \n",
       "3                                                 40                  \n",
       "4                                                 36                  "
      ]
     },
     "execution_count": 60,
     "metadata": {},
     "output_type": "execute_result"
    }
   ],
   "source": [
    "#plot\n",
    "plt.bar( x, y, color = ['red', 'yellow'])\n",
    "plt.grid()\n",
    "plt.xlabel(\"Investors Name\")\n",
    "plt.ylabel(\"Number Of Investments\")\n",
    "plt.xticks(rotation=40)\n",
    "plt.title(\"Top 5 Investors and corresponding Number Of Investments In Different Startups of Investment type Crown Funding or Seed Funding\")\n",
    "plt.show()\n",
    "\n",
    "#pandas frame for Investors name and corresponding Number of Investments made by them in different startups and Investment type is either Seed funding or Crowd funding\n",
    "li = list(zip(x,y))\n",
    "investor_data = pd.DataFrame(li, columns = [\"Name Of Investors\", \"Total Number Of Investments of type Seed funding or Crowd funding\"])\n",
    "investor_data"
   ]
  },
  {
   "cell_type": "markdown",
   "metadata": {},
   "source": [
    "**PROBLEM 5**"
   ]
  },
  {
   "cell_type": "markdown",
   "metadata": {},
   "source": [
    "Due to your immense help, your friend startup successfully got seed funding and it is on the operational mode. Now your friend wants to expand his startup and he is looking for new investors for his startup. Now you again come as a saviour to help your friend and want to create a list of probable new new investors. Before moving forward you remember your investor friend advice that finding the investors by analysing the investment type. Since your friend startup is not in early phase it is in growth stage so the best-suited investment type is Private Equity. Find the top 5 investors who have invested in a different number of startups and their investment type is Private Equity. Correct spelling of investment types are - \"Private Equity\", \"Seed Funding\", \"Debt Funding\", and \"Crowd Funding\". Keep an eye for any spelling mistake. You can find this by printing unique values from this column.There are many errors in startup names. Ignore correcting all, just handle the important ones - Ola, Flipkart, Oyo and Paytm."
   ]
  },
  {
   "cell_type": "code",
   "execution_count": 72,
   "metadata": {},
   "outputs": [],
   "source": [
    "test5=df.copy()\n"
   ]
  },
  {
   "cell_type": "code",
   "execution_count": 73,
   "metadata": {},
   "outputs": [],
   "source": [
    "#correcting the spelling in investors name ignoring undisclosed investors\n",
    "test5['InvestorsName'].replace(\"Undisclosed investors\", \"Undisclosed Investors\", inplace = True)\n",
    "test5['InvestorsName'].replace(\"Undisclosed Investors\",\"\",inplace = True)"
   ]
  },
  {
   "cell_type": "code",
   "execution_count": 74,
   "metadata": {},
   "outputs": [],
   "source": [
    "#correcting major startup names\n",
    "test5['StartupName'].replace(\"Ola Cabs\", \"Ola\", inplace = True)\n",
    "test5['StartupName'].replace(\"OyoRooms\", \"Oyo\", inplace = True)\n",
    "test5['StartupName'].replace(\"Oyorooms\", \"Oyo\", inplace = True)\n",
    "test5['StartupName'].replace(\"OYO Rooms\", \"Oyo\", inplace = True)\n",
    "test5['StartupName'].replace(\"Olacabs\", \"Ola\", inplace = True)\n",
    "test5['StartupName'].replace(\"Flipkart.com\", \"Flipkart\", inplace = True)\n",
    "test5['StartupName'].replace(\"Oyo Rooms\", \"Oyo\", inplace = True)\n",
    "test5['StartupName'].replace(\"Paytm Marketplace\", \"Paytm\", inplace = True)"
   ]
  },
  {
   "cell_type": "code",
   "execution_count": 75,
   "metadata": {},
   "outputs": [],
   "source": [
    "#correcting spelling of investment type\n",
    "test5['InvestmentType'].replace(\"PrivateEquity\",\"Private Equity\", inplace = True)\n",
    "test5['InvestmentType'].replace(\"SeedFunding\",\"Seed Funding\", inplace = True)\n",
    "test5['InvestmentType'].replace(\"Crowd funding\",\"Crowd Funding\", inplace = True)"
   ]
  },
  {
   "cell_type": "code",
   "execution_count": 76,
   "metadata": {},
   "outputs": [],
   "source": [
    "#filter na \n",
    "test5.dropna(inplace = True, subset = [\"InvestorsName\", \"StartupName\", \"InvestmentType\"])\n",
    "test5.reset_index(inplace = True, drop = True)"
   ]
  },
  {
   "cell_type": "code",
   "execution_count": 77,
   "metadata": {},
   "outputs": [],
   "source": [
    "#function to create dictionary of investor name making investment to different startups and Investment type is either Seed funding or Crowd funding\n",
    "def Create(startup_name, Investor_name, Invest_type, Investment_type):\n",
    "    cnt = {}\n",
    "    #cnt holds investors name as key and the number of investments as value\n",
    "    name_startup = {}\n",
    "    #name_startup holds the investors name as key and list of different companies in which it invests as value\n",
    "    n = len(Investor_name)\n",
    "    for idx in range(n):\n",
    "        type_of_invest = Invest_type[idx].strip()\n",
    "        if type_of_invest not in Investment_type: #if investement type is either seed or crowd then we will look into the startup name or investors name\n",
    "            continue\n",
    "        i = Investor_name[idx].strip()\n",
    "        name = startup_name[idx].strip()\n",
    "        if ',' not in i and i != \"\":\n",
    "            if name_startup.get(i) is None:    #no startup is still funded by this investor till now\n",
    "                cnt[i] = 1\n",
    "                li = []\n",
    "                li.append(name)\n",
    "                name_startup[i] = li   \n",
    "            else:\n",
    "                li = name_startup[i]\n",
    "                if name not in li:             #checking the given startup has been invested before or not\n",
    "                    cnt[i] = cnt.get(i, 0) + 1\n",
    "                    li.append(name)\n",
    "                    name_startup[i]   \n",
    "        else:\n",
    "            string = i.strip().split(',')\n",
    "            for j in string:\n",
    "                k = j.strip()\n",
    "                if k != \"\":\n",
    "                    if name_startup.get(k) is None:    #no startup is still funded by this investor till now\n",
    "                        cnt[k] = 1\n",
    "                        li = []\n",
    "                        li.append(name)\n",
    "                        name_startup[k] = li\n",
    "                    else:\n",
    "                        li = name_startup[k]\n",
    "                        if name not in li:            #checking the given startup has been invested before or not\n",
    "                            cnt[k] = cnt.get(k, 0) + 1\n",
    "                            li.append(name)\n",
    "                            name_startup[k] = li \n",
    "                \n",
    "    return cnt"
   ]
  },
  {
   "cell_type": "code",
   "execution_count": 78,
   "metadata": {},
   "outputs": [],
   "source": [
    "#making dictionary to keep record of every investor\n",
    "dictionary = Create(test5['StartupName'], test5['InvestorsName'], test5['InvestmentType'], [\"Private Equity\"])"
   ]
  },
  {
   "cell_type": "code",
   "execution_count": 79,
   "metadata": {},
   "outputs": [],
   "source": [
    "#build pandas dataframe\n",
    "diff_invest_type = pd.DataFrame(list(dictionary.values()), list(dictionary.keys()))"
   ]
  },
  {
   "cell_type": "code",
   "execution_count": 80,
   "metadata": {},
   "outputs": [],
   "source": [
    "diff_invest_type = diff_invest_type.sort_values(by = [0], ascending = False)\n"
   ]
  },
  {
   "cell_type": "code",
   "execution_count": 81,
   "metadata": {},
   "outputs": [],
   "source": [
    "x = []\n",
    "y = []\n",
    "#we have to just find top 5 Investors\n",
    "for i in range(5):\n",
    "    x.append(diff_invest_type.index[i])\n",
    "    y.append(diff_invest_type.values[i][0])"
   ]
  },
  {
   "cell_type": "code",
   "execution_count": 82,
   "metadata": {},
   "outputs": [
    {
     "name": "stdout",
     "output_type": "stream",
     "text": [
      "List Of Top 5 Investors who Invested most number of times of type Private Equity:\n",
      "1. Sequoia Capital\n",
      "2. Accel Partners\n",
      "3. Kalaari Capital\n",
      "4. Blume Ventures\n",
      "5. SAIF Partners\n"
     ]
    }
   ],
   "source": [
    "#printing the top investors who invested who invested most number of times in different startups and Investment type is Private Equity\n",
    "print(\"List Of Top 5 Investors who Invested most number of times of type Private Equity:\")\n",
    "i = 0\n",
    "for ele in x:\n",
    "    print(i+1,end = \"\")\n",
    "    print(\".\", end = \" \")\n",
    "    print(ele)\n",
    "    i += 1"
   ]
  },
  {
   "cell_type": "code",
   "execution_count": 83,
   "metadata": {},
   "outputs": [
    {
     "data": {
      "image/png": "[encoded data removed]",
      "text/plain": [
       "<Figure size 432x288 with 1 Axes>"
      ]
     },
     "metadata": {
      "needs_background": "light"
     },
     "output_type": "display_data"
    },
    {
     "data": {
      "text/html": [
       "<div>\n",
       "<style scoped>\n",
       "    .dataframe tbody tr th:only-of-type {\n",
       "        vertical-align: middle;\n",
       "    }\n",
       "\n",
       "    .dataframe tbody tr th {\n",
       "        vertical-align: top;\n",
       "    }\n",
       "\n",
       "    .dataframe thead th {\n",
       "        text-align: right;\n",
       "    }\n",
       "</style>\n",
       "<table border=\"1\" class=\"dataframe\">\n",
       "  <thead>\n",
       "    <tr style=\"text-align: right;\">\n",
       "      <th></th>\n",
       "      <th>Name Of Investors</th>\n",
       "      <th>Total Number Of Investments of type Private Equity</th>\n",
       "    </tr>\n",
       "  </thead>\n",
       "  <tbody>\n",
       "    <tr>\n",
       "      <th>0</th>\n",
       "      <td>Sequoia Capital</td>\n",
       "      <td>45</td>\n",
       "    </tr>\n",
       "    <tr>\n",
       "      <th>1</th>\n",
       "      <td>Accel Partners</td>\n",
       "      <td>43</td>\n",
       "    </tr>\n",
       "    <tr>\n",
       "      <th>2</th>\n",
       "      <td>Kalaari Capital</td>\n",
       "      <td>35</td>\n",
       "    </tr>\n",
       "    <tr>\n",
       "      <th>3</th>\n",
       "      <td>Blume Ventures</td>\n",
       "      <td>27</td>\n",
       "    </tr>\n",
       "    <tr>\n",
       "      <th>4</th>\n",
       "      <td>SAIF Partners</td>\n",
       "      <td>24</td>\n",
       "    </tr>\n",
       "  </tbody>\n",
       "</table>\n",
       "</div>"
      ],
      "text/plain": [
       "  Name Of Investors  Total Number Of Investments of type Private Equity\n",
       "0   Sequoia Capital                                                 45 \n",
       "1    Accel Partners                                                 43 \n",
       "2   Kalaari Capital                                                 35 \n",
       "3    Blume Ventures                                                 27 \n",
       "4     SAIF Partners                                                 24 "
      ]
     },
     "execution_count": 83,
     "metadata": {},
     "output_type": "execute_result"
    }
   ],
   "source": [
    "#plot\n",
    "plt.bar(x, y)\n",
    "plt.grid()\n",
    "plt.xlabel(\"Investors Name\")\n",
    "plt.ylabel(\"Number Of Investments\")\n",
    "plt.xticks(rotation=40)\n",
    "plt.title(\"Top 5 Investors and corresponding Number Of Investments In Different Startups of Investment type Private Equity\")\n",
    "plt.show()\n",
    "\n",
    "#pandas frame for Investors name and corresponding Number of Investments made by them in different startups and Investment type is either Seed funding or Crowd funding\n",
    "li = list(zip(x,y))\n",
    "investor_data = pd.DataFrame(li, columns = [\"Name Of Investors\", \"Total Number Of Investments of type Private Equity\"])\n",
    "investor_data"
   ]
  },
  {
   "cell_type": "code",
   "execution_count": null,
   "metadata": {},
   "outputs": [],
   "source": []
  }
 ],
 "metadata": {
  "kernelspec": {
   "display_name": "Python 3",
   "language": "python",
   "name": "python3"
  },
  "language_info": {
   "codemirror_mode": {
    "name": "ipython",
    "version": 3
   },
   "file_extension": ".py",
   "mimetype": "text/x-python",
   "name": "python",
   "nbconvert_exporter": "python",
   "pygments_lexer": "ipython3",
   "version": "3.8.5"
  }
 },
 "nbformat": 4,
 "nbformat_minor": 4
}
